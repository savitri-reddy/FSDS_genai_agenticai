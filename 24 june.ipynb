{
 "cells": [
  {
   "cell_type": "code",
   "execution_count": 468,
   "id": "0a1a0012-c714-4b5b-8d95-86ba8908337c",
   "metadata": {},
   "outputs": [],
   "source": [
    "# list datastructure"
   ]
  },
  {
   "cell_type": "code",
   "execution_count": 469,
   "id": "50ac6c2c-25d7-4ebf-b795-deb34ce40e9b",
   "metadata": {},
   "outputs": [
    {
     "name": "stdout",
     "output_type": "stream",
     "text": [
      "<class 'list'>\n"
     ]
    }
   ],
   "source": [
    "print(type([]))"
   ]
  },
  {
   "cell_type": "code",
   "execution_count": 470,
   "id": "a640fc74-3e84-4a92-b54f-1537694322b5",
   "metadata": {},
   "outputs": [],
   "source": [
    "a = [12,20,30,40,50]"
   ]
  },
  {
   "cell_type": "code",
   "execution_count": 471,
   "id": "2b4bc34c-bb0a-4415-9a2e-bc40a8fd4cff",
   "metadata": {},
   "outputs": [
    {
     "name": "stdout",
     "output_type": "stream",
     "text": [
      "[12, 20, 30, 40, 50]\n"
     ]
    }
   ],
   "source": [
    "print(a)\n"
   ]
  },
  {
   "cell_type": "code",
   "execution_count": 472,
   "id": "f32a461f-a376-4d03-b8ee-2e1737299ecc",
   "metadata": {},
   "outputs": [],
   "source": [
    "l = []"
   ]
  },
  {
   "cell_type": "code",
   "execution_count": 473,
   "id": "af8be3c3-4c5e-4ed6-aecb-43b621499baf",
   "metadata": {},
   "outputs": [
    {
     "name": "stdout",
     "output_type": "stream",
     "text": [
      "[]\n"
     ]
    }
   ],
   "source": [
    "print(l)"
   ]
  },
  {
   "cell_type": "code",
   "execution_count": 474,
   "id": "a8366f9f-453e-4e4e-b2f3-e4b4775d5855",
   "metadata": {},
   "outputs": [
    {
     "data": {
      "text/plain": [
       "list"
      ]
     },
     "execution_count": 474,
     "metadata": {},
     "output_type": "execute_result"
    }
   ],
   "source": [
    "type(l)"
   ]
  },
  {
   "cell_type": "code",
   "execution_count": 475,
   "id": "9bce81c4-24e2-405b-b6de-5d81e508f2a7",
   "metadata": {},
   "outputs": [
    {
     "name": "stdout",
     "output_type": "stream",
     "text": [
      "<class 'list'>\n"
     ]
    }
   ],
   "source": [
    "print(type(l))"
   ]
  },
  {
   "cell_type": "code",
   "execution_count": 476,
   "id": "bf0d508e-2954-434b-a7f7-100b27f6b5da",
   "metadata": {},
   "outputs": [
    {
     "data": {
      "text/plain": [
       "0"
      ]
     },
     "execution_count": 476,
     "metadata": {},
     "output_type": "execute_result"
    }
   ],
   "source": [
    "len(l) #list is empty now so 0"
   ]
  },
  {
   "cell_type": "code",
   "execution_count": 477,
   "id": "d68efa6a-fbf6-4602-9524-6e730682e107",
   "metadata": {},
   "outputs": [
    {
     "name": "stdout",
     "output_type": "stream",
     "text": [
      "[]\n"
     ]
    }
   ],
   "source": [
    "print(l)"
   ]
  },
  {
   "cell_type": "code",
   "execution_count": 478,
   "id": "fb1c4594-49e6-41e2-aa9b-eb85ddcd113c",
   "metadata": {},
   "outputs": [],
   "source": [
    "l.append(10)"
   ]
  },
  {
   "cell_type": "code",
   "execution_count": 479,
   "id": "b8c09180-4d2a-4ac5-bfb9-6c680fa82e1d",
   "metadata": {},
   "outputs": [
    {
     "name": "stdout",
     "output_type": "stream",
     "text": [
      "[10]\n"
     ]
    }
   ],
   "source": [
    "print(l)"
   ]
  },
  {
   "cell_type": "code",
   "execution_count": 480,
   "id": "fbd2df69-cde8-45e7-baae-4d7cb83cd11a",
   "metadata": {},
   "outputs": [],
   "source": [
    "l.append(20)\n",
    "l.append(30)           # list is growable\n",
    "l.append(40)\n",
    "l.append(50)"
   ]
  },
  {
   "cell_type": "code",
   "execution_count": 481,
   "id": "10c2877d-95e9-4d1a-813e-0a17e65e5f83",
   "metadata": {},
   "outputs": [
    {
     "name": "stdout",
     "output_type": "stream",
     "text": [
      "[10, 20, 30, 40, 50]\n"
     ]
    }
   ],
   "source": [
    "print(l)"
   ]
  },
  {
   "cell_type": "code",
   "execution_count": 482,
   "id": "bd47663b-cddc-41ac-9871-ace5d0229e04",
   "metadata": {},
   "outputs": [
    {
     "data": {
      "text/plain": [
       "10"
      ]
     },
     "execution_count": 482,
     "metadata": {},
     "output_type": "execute_result"
    }
   ],
   "source": [
    "l[0]"
   ]
  },
  {
   "cell_type": "code",
   "execution_count": 483,
   "id": "a12cb60e-4fe6-410a-b7af-faa903e4de5b",
   "metadata": {},
   "outputs": [],
   "source": [
    "l[0]  = 100      #employee salary change 0 to 100"
   ]
  },
  {
   "cell_type": "code",
   "execution_count": 484,
   "id": "779fa67d-c95d-433a-83f7-70672bebdc7a",
   "metadata": {},
   "outputs": [
    {
     "name": "stdout",
     "output_type": "stream",
     "text": [
      "[100, 20, 30, 40, 50]\n"
     ]
    }
   ],
   "source": [
    "print(l)"
   ]
  },
  {
   "cell_type": "code",
   "execution_count": 485,
   "id": "08410337-976d-4c6c-a309-e428e47182c6",
   "metadata": {},
   "outputs": [],
   "source": [
    "l[0] = 100"
   ]
  },
  {
   "cell_type": "code",
   "execution_count": 486,
   "id": "21c893f5-6261-4ece-893a-2a97624f70b1",
   "metadata": {},
   "outputs": [
    {
     "data": {
      "text/plain": [
       "[100, 20, 30, 40, 50]"
      ]
     },
     "execution_count": 486,
     "metadata": {},
     "output_type": "execute_result"
    }
   ],
   "source": [
    "l"
   ]
  },
  {
   "cell_type": "code",
   "execution_count": 487,
   "id": "33bbc8ba-502c-4bc6-a5a1-14e6e0a7db85",
   "metadata": {},
   "outputs": [
    {
     "data": {
      "text/plain": [
       "5"
      ]
     },
     "execution_count": 487,
     "metadata": {},
     "output_type": "execute_result"
    }
   ],
   "source": [
    "len(l)"
   ]
  },
  {
   "cell_type": "code",
   "execution_count": 488,
   "id": "e87f6883-bcc5-4cf8-8668-14b2d035c90f",
   "metadata": {},
   "outputs": [],
   "source": [
    "l.append(10)"
   ]
  },
  {
   "cell_type": "code",
   "execution_count": 489,
   "id": "23219e12-f13c-4151-bb6d-674d45574930",
   "metadata": {},
   "outputs": [
    {
     "name": "stdout",
     "output_type": "stream",
     "text": [
      "[100, 20, 30, 40, 50, 10]\n"
     ]
    }
   ],
   "source": [
    "print(l)\n"
   ]
  },
  {
   "cell_type": "code",
   "execution_count": 490,
   "id": "b701e887-5cd6-476d-8215-e81f374ec956",
   "metadata": {},
   "outputs": [
    {
     "data": {
      "text/plain": [
       "[100, 20, 30, 40, 50, 10]"
      ]
     },
     "execution_count": 490,
     "metadata": {},
     "output_type": "execute_result"
    }
   ],
   "source": [
    "l"
   ]
  },
  {
   "cell_type": "code",
   "execution_count": 491,
   "id": "69178051-fc95-4828-89e0-7f44d6cb55e4",
   "metadata": {},
   "outputs": [],
   "source": [
    "l[0] = 100"
   ]
  },
  {
   "cell_type": "code",
   "execution_count": 492,
   "id": "d6717f4c-527f-4869-bf88-72887aa0d9fc",
   "metadata": {},
   "outputs": [
    {
     "data": {
      "text/plain": [
       "[100, 20, 30, 40, 50, 10]"
      ]
     },
     "execution_count": 492,
     "metadata": {},
     "output_type": "execute_result"
    }
   ],
   "source": [
    "l\n"
   ]
  },
  {
   "cell_type": "code",
   "execution_count": 493,
   "id": "29c01088-3f9f-417b-a61d-8fc23ae38ccd",
   "metadata": {},
   "outputs": [],
   "source": [
    "l[2] = 200"
   ]
  },
  {
   "cell_type": "code",
   "execution_count": 494,
   "id": "c317b0a4-c487-4ade-a008-672530fd2262",
   "metadata": {},
   "outputs": [
    {
     "data": {
      "text/plain": [
       "[100, 20, 200, 40, 50, 10]"
      ]
     },
     "execution_count": 494,
     "metadata": {},
     "output_type": "execute_result"
    }
   ],
   "source": [
    "l"
   ]
  },
  {
   "cell_type": "code",
   "execution_count": 495,
   "id": "c68ef47c-1686-45ce-9e72-1586750f32e8",
   "metadata": {},
   "outputs": [],
   "source": [
    "l[5] = -10"
   ]
  },
  {
   "cell_type": "code",
   "execution_count": 496,
   "id": "efbf2102-c507-4b70-8537-8f0112705a4e",
   "metadata": {},
   "outputs": [
    {
     "data": {
      "text/plain": [
       "[100, 20, 200, 40, 50, -10]"
      ]
     },
     "execution_count": 496,
     "metadata": {},
     "output_type": "execute_result"
    }
   ],
   "source": [
    "l"
   ]
  },
  {
   "cell_type": "code",
   "execution_count": 497,
   "id": "17ddb81b-42bc-48ee-be59-ff859ca5ee13",
   "metadata": {},
   "outputs": [],
   "source": [
    "l[5] = -300"
   ]
  },
  {
   "cell_type": "code",
   "execution_count": 498,
   "id": "e0873167-b102-425e-87da-512d508f2e49",
   "metadata": {},
   "outputs": [
    {
     "data": {
      "text/plain": [
       "[100, 20, 200, 40, 50, -300]"
      ]
     },
     "execution_count": 498,
     "metadata": {},
     "output_type": "execute_result"
    }
   ],
   "source": [
    "l"
   ]
  },
  {
   "cell_type": "code",
   "execution_count": 499,
   "id": "518bfa4a-773e-4acf-b5a9-3f3ceaa3b6f4",
   "metadata": {},
   "outputs": [],
   "source": [
    "l1 = l.copy()     #2 objects/var's created(l,l1)"
   ]
  },
  {
   "cell_type": "code",
   "execution_count": 500,
   "id": "328806f5-4f29-4863-8469-c869707649fb",
   "metadata": {},
   "outputs": [
    {
     "data": {
      "text/plain": [
       "[100, 20, 200, 40, 50, -300]"
      ]
     },
     "execution_count": 500,
     "metadata": {},
     "output_type": "execute_result"
    }
   ],
   "source": [
    "l1"
   ]
  },
  {
   "cell_type": "code",
   "execution_count": 501,
   "id": "df4f00e6-2e6b-47f3-ae16-86412e180990",
   "metadata": {},
   "outputs": [
    {
     "name": "stdout",
     "output_type": "stream",
     "text": [
      "[100, 20, 200, 40, 50, -300]\n",
      "[100, 20, 200, 40, 50, -300]\n"
     ]
    }
   ],
   "source": [
    "print(l)\n",
    "print(l1)"
   ]
  },
  {
   "cell_type": "code",
   "execution_count": null,
   "id": "a7ca05f9-8523-4ac1-b970-d7aa5104e7e1",
   "metadata": {},
   "outputs": [],
   "source": []
  },
  {
   "cell_type": "code",
   "execution_count": 502,
   "id": "869c14ce-ab77-4d62-bb65-48e6a06c1d26",
   "metadata": {},
   "outputs": [
    {
     "data": {
      "text/plain": [
       "True"
      ]
     },
     "execution_count": 502,
     "metadata": {},
     "output_type": "execute_result"
    }
   ],
   "source": [
    "l == l1"
   ]
  },
  {
   "cell_type": "code",
   "execution_count": 503,
   "id": "91b748c1-8531-4d37-90d5-d2dbe71b7376",
   "metadata": {},
   "outputs": [
    {
     "data": {
      "text/plain": [
       "False"
      ]
     },
     "execution_count": 503,
     "metadata": {},
     "output_type": "execute_result"
    }
   ],
   "source": [
    "id(l) == id(l1)  #adress id diff"
   ]
  },
  {
   "cell_type": "code",
   "execution_count": 504,
   "id": "af513e2a-bdee-4c7d-9fcd-9b99fe7e4bca",
   "metadata": {},
   "outputs": [
    {
     "data": {
      "text/plain": [
       "True"
      ]
     },
     "execution_count": 504,
     "metadata": {},
     "output_type": "execute_result"
    }
   ],
   "source": [
    "id(l) != id(l1)"
   ]
  },
  {
   "cell_type": "code",
   "execution_count": 505,
   "id": "785c8df9-f7a0-41a2-a2e1-e5d58ea2ea51",
   "metadata": {},
   "outputs": [
    {
     "data": {
      "text/plain": [
       "[100, 20, 200, 40, 50, -300]"
      ]
     },
     "execution_count": 505,
     "metadata": {},
     "output_type": "execute_result"
    }
   ],
   "source": [
    "l"
   ]
  },
  {
   "cell_type": "code",
   "execution_count": 506,
   "id": "aefa550a-5aa8-4450-a4e0-90e455ba0994",
   "metadata": {},
   "outputs": [],
   "source": [
    "l3= [20,30,10,10,30,20,20]"
   ]
  },
  {
   "cell_type": "code",
   "execution_count": 507,
   "id": "f80e33c9-8883-4648-ab74-052cf025e79f",
   "metadata": {},
   "outputs": [
    {
     "name": "stdout",
     "output_type": "stream",
     "text": [
      "[20, 30, 10, 10, 30, 20, 20]\n"
     ]
    }
   ],
   "source": [
    "print(l3)"
   ]
  },
  {
   "cell_type": "code",
   "execution_count": 508,
   "id": "d8b0aaff-7bc1-4755-b413-f15df9e63208",
   "metadata": {},
   "outputs": [
    {
     "data": {
      "text/plain": [
       "2"
      ]
     },
     "execution_count": 508,
     "metadata": {},
     "output_type": "execute_result"
    }
   ],
   "source": [
    "l3.count(10)"
   ]
  },
  {
   "cell_type": "code",
   "execution_count": 509,
   "id": "5fa57292-ab51-419c-acfd-42171606d60b",
   "metadata": {},
   "outputs": [
    {
     "data": {
      "text/plain": [
       "[20, 30, 10, 10, 30, 20, 20]"
      ]
     },
     "execution_count": 509,
     "metadata": {},
     "output_type": "execute_result"
    }
   ],
   "source": [
    "l3\n"
   ]
  },
  {
   "cell_type": "code",
   "execution_count": 510,
   "id": "f2db957b-edaf-4a3d-9ec3-c045f661f654",
   "metadata": {},
   "outputs": [
    {
     "data": {
      "text/plain": [
       "7"
      ]
     },
     "execution_count": 510,
     "metadata": {},
     "output_type": "execute_result"
    }
   ],
   "source": [
    "len(l3)"
   ]
  },
  {
   "cell_type": "code",
   "execution_count": 511,
   "id": "2741fca3-e75d-41a2-8e07-6ab1bec64230",
   "metadata": {},
   "outputs": [],
   "source": [
    "l3.clear()"
   ]
  },
  {
   "cell_type": "code",
   "execution_count": 512,
   "id": "269f09c2-fe4f-4e98-ba2e-0c735b054b76",
   "metadata": {},
   "outputs": [
    {
     "data": {
      "text/plain": [
       "[]"
      ]
     },
     "execution_count": 512,
     "metadata": {},
     "output_type": "execute_result"
    }
   ],
   "source": [
    "l3"
   ]
  },
  {
   "cell_type": "code",
   "execution_count": 513,
   "id": "c75e344f-2457-4ba5-a804-75e8d4cbfaf2",
   "metadata": {},
   "outputs": [
    {
     "data": {
      "text/plain": [
       "[]"
      ]
     },
     "execution_count": 513,
     "metadata": {},
     "output_type": "execute_result"
    }
   ],
   "source": [
    "l3\n"
   ]
  },
  {
   "cell_type": "code",
   "execution_count": 514,
   "id": "4c620490-7ba8-4b70-8880-989ddfc6e97a",
   "metadata": {},
   "outputs": [],
   "source": [
    "del l3"
   ]
  },
  {
   "cell_type": "code",
   "execution_count": 515,
   "id": "e55a65ca-87ed-413b-8c3f-0af0fc3b00b2",
   "metadata": {},
   "outputs": [
    {
     "ename": "NameError",
     "evalue": "name 'l3' is not defined",
     "output_type": "error",
     "traceback": [
      "\u001b[1;31m---------------------------------------------------------------------------\u001b[0m",
      "\u001b[1;31mNameError\u001b[0m                                 Traceback (most recent call last)",
      "Cell \u001b[1;32mIn[515], line 1\u001b[0m\n\u001b[1;32m----> 1\u001b[0m l3\n",
      "\u001b[1;31mNameError\u001b[0m: name 'l3' is not defined"
     ]
    }
   ],
   "source": [
    "l3\n"
   ]
  },
  {
   "cell_type": "code",
   "execution_count": 518,
   "id": "72cac7a3-903b-40aa-99ec-9b2f19aac391",
   "metadata": {},
   "outputs": [
    {
     "ename": "NameError",
     "evalue": "name 'l3' is not defined",
     "output_type": "error",
     "traceback": [
      "\u001b[1;31m---------------------------------------------------------------------------\u001b[0m",
      "\u001b[1;31mNameError\u001b[0m                                 Traceback (most recent call last)",
      "Cell \u001b[1;32mIn[518], line 1\u001b[0m\n\u001b[1;32m----> 1\u001b[0m l3\n",
      "\u001b[1;31mNameError\u001b[0m: name 'l3' is not defined"
     ]
    }
   ],
   "source": [
    "l3"
   ]
  },
  {
   "cell_type": "code",
   "execution_count": 516,
   "id": "2e740f7f-4952-4fd2-ab17-e59cab6d99f6",
   "metadata": {},
   "outputs": [
    {
     "data": {
      "text/plain": [
       "[100, 20, 200, 40, 50, -300]"
      ]
     },
     "execution_count": 516,
     "metadata": {},
     "output_type": "execute_result"
    }
   ],
   "source": [
    "l"
   ]
  },
  {
   "cell_type": "code",
   "execution_count": 517,
   "id": "d9e2070f-5b06-494a-a217-f002893cce48",
   "metadata": {},
   "outputs": [],
   "source": [
    "l4 = []\n"
   ]
  },
  {
   "cell_type": "code",
   "execution_count": 519,
   "id": "16deba54-77dd-473c-bca6-7b66f7901fb7",
   "metadata": {},
   "outputs": [],
   "source": [
    "l4.append(9)\n",
    "l4.append('nit')\n",
    "l4.append(True)\n",
    "l4.append(1+2j)\n",
    "l4.append(9.3)"
   ]
  },
  {
   "cell_type": "code",
   "execution_count": 520,
   "id": "758571cb-e32b-4ec4-a304-d76b990d22ad",
   "metadata": {},
   "outputs": [
    {
     "data": {
      "text/plain": [
       "[9, 'nit', True, (1+2j), 9.3]"
      ]
     },
     "execution_count": 520,
     "metadata": {},
     "output_type": "execute_result"
    }
   ],
   "source": [
    "l4"
   ]
  },
  {
   "cell_type": "code",
   "execution_count": 521,
   "id": "82a43bd8-03e7-4a11-854f-826859b1e486",
   "metadata": {},
   "outputs": [
    {
     "name": "stdout",
     "output_type": "stream",
     "text": [
      "[100, 20, 200, 40, 50, -300]\n",
      "[9, 'nit', True, (1+2j), 9.3]\n"
     ]
    }
   ],
   "source": [
    "print(l)\n",
    "print(l4)"
   ]
  },
  {
   "cell_type": "code",
   "execution_count": 522,
   "id": "ce982334-913e-4b41-808c-032c2eb670e0",
   "metadata": {},
   "outputs": [
    {
     "data": {
      "text/plain": [
       "[9, 'nit', True, (1+2j), 9.3]"
      ]
     },
     "execution_count": 522,
     "metadata": {},
     "output_type": "execute_result"
    }
   ],
   "source": [
    "l4"
   ]
  },
  {
   "cell_type": "code",
   "execution_count": 524,
   "id": "5b14f687-68a1-4fd4-a9ec-a2ac815e0fce",
   "metadata": {},
   "outputs": [
    {
     "data": {
      "text/plain": [
       "0"
      ]
     },
     "execution_count": 524,
     "metadata": {},
     "output_type": "execute_result"
    }
   ],
   "source": [
    "l.index(100)"
   ]
  },
  {
   "cell_type": "code",
   "execution_count": 525,
   "id": "3f792d4d-1e70-4f72-934d-dcd649f97e45",
   "metadata": {},
   "outputs": [
    {
     "data": {
      "text/plain": [
       "[100, 20, 200, 40, 50, -300]"
      ]
     },
     "execution_count": 525,
     "metadata": {},
     "output_type": "execute_result"
    }
   ],
   "source": [
    "l"
   ]
  },
  {
   "cell_type": "code",
   "execution_count": 526,
   "id": "ab9e1d71-37d7-4bc5-a4bf-a2385fb11c12",
   "metadata": {},
   "outputs": [
    {
     "data": {
      "text/plain": [
       "2"
      ]
     },
     "execution_count": 526,
     "metadata": {},
     "output_type": "execute_result"
    }
   ],
   "source": [
    "l.index(200)"
   ]
  },
  {
   "cell_type": "code",
   "execution_count": 527,
   "id": "c8ad9caa-72ba-4d8d-b2c1-594097b8c60e",
   "metadata": {},
   "outputs": [
    {
     "data": {
      "text/plain": [
       "[9, 'nit', True, (1+2j), 9.3]"
      ]
     },
     "execution_count": 527,
     "metadata": {},
     "output_type": "execute_result"
    }
   ],
   "source": [
    "l4"
   ]
  },
  {
   "cell_type": "code",
   "execution_count": 528,
   "id": "b9d327ba-757b-44a6-a5de-33556e905a5f",
   "metadata": {},
   "outputs": [
    {
     "data": {
      "text/plain": [
       "'nit'"
      ]
     },
     "execution_count": 528,
     "metadata": {},
     "output_type": "execute_result"
    }
   ],
   "source": [
    "l4[1]"
   ]
  },
  {
   "cell_type": "code",
   "execution_count": 529,
   "id": "d4a49c7d-f4ed-4d0c-865c-9b1dc440dd24",
   "metadata": {},
   "outputs": [
    {
     "data": {
      "text/plain": [
       "'n'"
      ]
     },
     "execution_count": 529,
     "metadata": {},
     "output_type": "execute_result"
    }
   ],
   "source": [
    "l4[1][0] "
   ]
  },
  {
   "cell_type": "code",
   "execution_count": 530,
   "id": "35528721-d267-4343-974d-9314905b901f",
   "metadata": {},
   "outputs": [
    {
     "data": {
      "text/plain": [
       "[9, 'nit', True, (1+2j), 9.3]"
      ]
     },
     "execution_count": 530,
     "metadata": {},
     "output_type": "execute_result"
    }
   ],
   "source": [
    "l4"
   ]
  },
  {
   "cell_type": "code",
   "execution_count": 531,
   "id": "14170bea-b6e4-44c0-957f-0904d543c28d",
   "metadata": {},
   "outputs": [
    {
     "name": "stdout",
     "output_type": "stream",
     "text": [
      "n\n",
      "i\n",
      "t\n"
     ]
    }
   ],
   "source": [
    "print(l4[1][0])     \n",
    "print(l4[1][1])      #print string vertically\n",
    "print(l4[1][2])      #this indexing is called nested indexing"
   ]
  },
  {
   "cell_type": "code",
   "execution_count": 532,
   "id": "b6aaf0f5-8f47-429d-b26b-b95bbd8c2f8e",
   "metadata": {},
   "outputs": [
    {
     "data": {
      "text/plain": [
       "[9, 'nit', True, (1+2j), 9.3]"
      ]
     },
     "execution_count": 532,
     "metadata": {},
     "output_type": "execute_result"
    }
   ],
   "source": [
    "l4"
   ]
  },
  {
   "cell_type": "code",
   "execution_count": 533,
   "id": "ad4afb7a-d1b2-480d-83bf-0e218f2d6940",
   "metadata": {},
   "outputs": [
    {
     "data": {
      "text/plain": [
       "[9, 'nit', True, (1+2j), 9.3]"
      ]
     },
     "execution_count": 533,
     "metadata": {},
     "output_type": "execute_result"
    }
   ],
   "source": [
    "l4"
   ]
  },
  {
   "cell_type": "code",
   "execution_count": 534,
   "id": "9d436f34-2ad2-4346-a748-d71871b9d6df",
   "metadata": {},
   "outputs": [
    {
     "data": {
      "text/plain": [
       "[9, 'nit', True, (1+2j), 9.3]"
      ]
     },
     "execution_count": 534,
     "metadata": {},
     "output_type": "execute_result"
    }
   ],
   "source": [
    "l4[:]"
   ]
  },
  {
   "cell_type": "code",
   "execution_count": 535,
   "id": "303919a2-9b8c-4b0c-b967-35a7081089a8",
   "metadata": {},
   "outputs": [
    {
     "data": {
      "text/plain": [
       "[100, 20, 200, 40, 50, -300]"
      ]
     },
     "execution_count": 535,
     "metadata": {},
     "output_type": "execute_result"
    }
   ],
   "source": [
    "l"
   ]
  },
  {
   "cell_type": "code",
   "execution_count": 536,
   "id": "4dcd29f0-0a12-44ba-86e0-aafe4437a8f3",
   "metadata": {},
   "outputs": [
    {
     "data": {
      "text/plain": [
       "[100, 20, 200, 40, 50, -300]"
      ]
     },
     "execution_count": 536,
     "metadata": {},
     "output_type": "execute_result"
    }
   ],
   "source": [
    "l[:]"
   ]
  },
  {
   "cell_type": "code",
   "execution_count": 537,
   "id": "c1c50285-f052-408d-877a-fab6374d32c1",
   "metadata": {},
   "outputs": [
    {
     "data": {
      "text/plain": [
       "[40, 50, -300]"
      ]
     },
     "execution_count": 537,
     "metadata": {},
     "output_type": "execute_result"
    }
   ],
   "source": [
    "l[3:]"
   ]
  },
  {
   "cell_type": "code",
   "execution_count": 538,
   "id": "35c77150-0896-4b3a-b30e-0212d1c45d10",
   "metadata": {},
   "outputs": [
    {
     "data": {
      "text/plain": [
       "[100, 20, 200, 40, 50, -300]"
      ]
     },
     "execution_count": 538,
     "metadata": {},
     "output_type": "execute_result"
    }
   ],
   "source": [
    "l[:10]"
   ]
  },
  {
   "cell_type": "code",
   "execution_count": 540,
   "id": "b9151cde-e48d-42ee-8669-7176ddc4788f",
   "metadata": {},
   "outputs": [
    {
     "data": {
      "text/plain": [
       "[100, 200, 50]"
      ]
     },
     "execution_count": 540,
     "metadata": {},
     "output_type": "execute_result"
    }
   ],
   "source": [
    "l[0:8:2]"
   ]
  },
  {
   "cell_type": "code",
   "execution_count": null,
   "id": "cba0febc-419a-4a2d-ba8f-b9b2218b5069",
   "metadata": {},
   "outputs": [],
   "source": []
  },
  {
   "cell_type": "code",
   "execution_count": null,
   "id": "64989107-399f-41b9-a5c4-2a21007a1f0c",
   "metadata": {},
   "outputs": [],
   "source": []
  },
  {
   "cell_type": "code",
   "execution_count": null,
   "id": "838901e7-ec36-4e0e-9e78-f035d2eb83ae",
   "metadata": {},
   "outputs": [],
   "source": []
  },
  {
   "cell_type": "code",
   "execution_count": null,
   "id": "fb095d29-eb5c-4aa3-9c79-2a21f49e460a",
   "metadata": {},
   "outputs": [],
   "source": []
  },
  {
   "cell_type": "code",
   "execution_count": null,
   "id": "6abdfa83-e75d-48fa-9978-4e5f74d76ac5",
   "metadata": {},
   "outputs": [],
   "source": []
  },
  {
   "cell_type": "code",
   "execution_count": null,
   "id": "94ff28d2-3730-42fa-ad96-4ace80e7b104",
   "metadata": {},
   "outputs": [],
   "source": []
  },
  {
   "cell_type": "code",
   "execution_count": null,
   "id": "5ac5d27f-6872-4e33-967e-1d724f5a67cb",
   "metadata": {},
   "outputs": [],
   "source": []
  },
  {
   "cell_type": "code",
   "execution_count": null,
   "id": "bc293871-4953-4cd9-a86b-19c65440d9cb",
   "metadata": {},
   "outputs": [],
   "source": []
  },
  {
   "cell_type": "code",
   "execution_count": null,
   "id": "9a1b3f99-581d-4d89-98da-bc0653afbaf0",
   "metadata": {},
   "outputs": [],
   "source": []
  }
 ],
 "metadata": {
  "kernelspec": {
   "display_name": "Python [conda env:base] *",
   "language": "python",
   "name": "conda-base-py"
  },
  "language_info": {
   "codemirror_mode": {
    "name": "ipython",
    "version": 3
   },
   "file_extension": ".py",
   "mimetype": "text/x-python",
   "name": "python",
   "nbconvert_exporter": "python",
   "pygments_lexer": "ipython3",
   "version": "3.12.7"
  }
 },
 "nbformat": 4,
 "nbformat_minor": 5
}
